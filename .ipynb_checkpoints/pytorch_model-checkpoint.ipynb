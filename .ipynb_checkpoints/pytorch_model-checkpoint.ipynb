{
 "cells": [
  {
   "cell_type": "markdown",
   "metadata": {},
   "source": [
    "# Final Project\n",
    "## Remi LeBlanc and Max Shinnerl"
   ]
  },
  {
   "cell_type": "markdown",
   "metadata": {},
   "source": [
    "https://github.com/fastai/fastbook/blob/master/12_nlp_dive.ipynb"
   ]
  },
  {
   "cell_type": "markdown",
   "metadata": {},
   "source": [
    "Some info:\n",
    "\n",
    "Original fastai model was pretrained with wiki and finetuned on these african new articles\n",
    "Task to was a binary classification to determine in the tags 'Agribusiness' or 'Food and Agriculture' were in the list of tags for each article. One problem with this was only 3% of the articles had this tag, this made it a bit interesting. Accuracy is not a good metric, used f1/f beta score and precision and recall as our metric.\n",
    "Fastai model performed about 80% recall 60% precision.\n",
    "\n",
    "For our project we can either continue looking for agriculture news articles, becasue then we wont have to do anything with the fastai notebooks, or we can do a multilabel or multiclass somehow. \n",
    "\n",
    "The link above in from the fastai text book and he goes through out to make a lanugage model from scratch in pytorch - we might be able to follow that"
   ]
  },
  {
   "cell_type": "markdown",
   "metadata": {},
   "source": [
    "### How will we compare the models?\n",
    "\n",
    "We can just compare the metrics we chose - precision/recall and f1score.\n",
    "We can talk about how it is harder to build from scratch, but have more flexibility. We should find something to do in the pytorch model that helps our model we couldnt do in fastai. Like perhaps with our unbalanced data"
   ]
  },
  {
   "cell_type": "code",
   "execution_count": 21,
   "metadata": {},
   "outputs": [],
   "source": [
    "# output_0628_fixedwithspace_updated.json has about 100,000 articles"
   ]
  },
  {
   "cell_type": "code",
   "execution_count": 29,
   "metadata": {},
   "outputs": [],
   "source": [
    "# output_0728.json has about 500k with 241k in english"
   ]
  },
  {
   "cell_type": "code",
   "execution_count": 20,
   "metadata": {},
   "outputs": [],
   "source": [
    "import json\n",
    "import pandas as pd\n",
    "import os"
   ]
  },
  {
   "cell_type": "code",
   "execution_count": 23,
   "metadata": {},
   "outputs": [],
   "source": [
    "#with open('output_0628_fixedwithspace_updated.json') as json_file:\n",
    "with open('output_0728.json') as json_file:\n",
    "\n",
    "    data = json.load(json_file)"
   ]
  },
  {
   "cell_type": "code",
   "execution_count": 24,
   "metadata": {},
   "outputs": [
    {
     "data": {
      "text/plain": [
       "448905"
      ]
     },
     "execution_count": 24,
     "metadata": {},
     "output_type": "execute_result"
    }
   ],
   "source": [
    "len(data)"
   ]
  },
  {
   "cell_type": "code",
   "execution_count": 25,
   "metadata": {},
   "outputs": [],
   "source": [
    "all_articles = {key:val for key, val in data.items() if type(val) == dict}\n"
   ]
  },
  {
   "cell_type": "code",
   "execution_count": 26,
   "metadata": {},
   "outputs": [
    {
     "data": {
      "text/plain": [
       "448905"
      ]
     },
     "execution_count": 26,
     "metadata": {},
     "output_type": "execute_result"
    }
   ],
   "source": [
    "len(all_articles)"
   ]
  },
  {
   "cell_type": "code",
   "execution_count": 27,
   "metadata": {},
   "outputs": [],
   "source": [
    "all_articles = {k:v for k,v in all_articles.items() if v!='Article NA'}\n",
    "all_articles = {k:v for k,v in all_articles.items() if v['language']=='English'}"
   ]
  },
  {
   "cell_type": "code",
   "execution_count": 28,
   "metadata": {},
   "outputs": [
    {
     "data": {
      "text/plain": [
       "241202"
      ]
     },
     "execution_count": 28,
     "metadata": {},
     "output_type": "execute_result"
    }
   ],
   "source": [
    "len(all_articles)"
   ]
  },
  {
   "cell_type": "code",
   "execution_count": 30,
   "metadata": {},
   "outputs": [
    {
     "data": {
      "text/plain": [
       "{'title': 'Somalia: Sufi Muslim Leaders Surrender to Government',\n",
       " 'article': ' The leaders of a Sufi Muslim group turned themselves into the custody of the Somali government Saturday after fighting left 22 people dead in central Somalia. Moallim Mohamud Sheikh, the spiritual leader, and Sheikh Mohamed Shakir, the chief of Ahlu-Sunna Wal-Jamaa (ASWJ), are in the custody of the Somali national army in the town of Dhusamareb after the group’s militias were overpowered in a battle with government forces. Dhusamareb is the administrative capital of Galmudug state. \"Our security forces have ended the standoff and disarmed all ASWJ militias,” Osman Isse Nur, the spokesperson of the newly elected president, told VOA. Speaking in a video posted online, ASWJ chief Sheikh Shakir said his group ceded power to the Somali national army. \"We agreed to end the fighting for the sake of the civilians. We agreed to hand over ASWJ militias to the commander general who will, in return, take responsibility for the safety of all our members, including the leader,” Shakir said in the video. At least 22 people were killed in clashes that broke out Thursday night after ASWJ militias fired on a government checkpoint in Dhusamareeb. The fighting continued Friday morning before spreading to the nearby town of Guricel in the Galgadud region. Reports say normalcy returned to Dhusamareb Saturday as residents, who were forced to flee, came back and reopened their businesses. Three rival politicians are claiming to be the leader of Galmudug state. Early this month, the parliament of Galmudug elected Ahmed Abdi Kariye as president. He is a former minister backed by the government. ASWJ chief Sheikh Shakir rejected the action, however, and declared himself president, while former president Ahmed Duale refused to cede power. The Sufi group ASWJ played a pivotal role in the fight against al-Shabab militants, and early this week, a U.S. diplomat said in remarks at the U.N. Security Council briefing that internal rivalries among allies in Somalia could derail the effort to combat al-Qaida-linked insurgents.',\n",
       " 'author': 'By Abdulaziz Osman',\n",
       " 'date': ' 1 March 2020',\n",
       " 'source': 'Voice of America (Washington,\\xa0DC)',\n",
       " 'language': 'English',\n",
       " 'tag': ['Somalia',\n",
       "  'East Africa',\n",
       "  'Legal Affairs',\n",
       "  'Conflict',\n",
       "  'Arms and Armies'],\n",
       " 'original_url': 'https://www.voanews.com/africa/somalias-sufi-muslim-leaders-surrender-government',\n",
       " 'full text': False}"
      ]
     },
     "execution_count": 30,
     "metadata": {},
     "output_type": "execute_result"
    }
   ],
   "source": [
    "all_articles['202003010001']"
   ]
  },
  {
   "cell_type": "code",
   "execution_count": 31,
   "metadata": {},
   "outputs": [],
   "source": [
    "# Clean up non-matching column names\n",
    "for k,v in all_articles.items():\n",
    "    # Update tag to tags\n",
    "    t = v.get('tag')\n",
    "    if t:\n",
    "        all_articles[k]['tags'] = t\n",
    "        del all_articles[k]['tag']\n",
    "        \n",
    "    # Update full_story to full\n",
    "    f = v.get('full text')\n",
    "    if str(f)!='None':\n",
    "        all_articles[k]['full_story'] = f\n",
    "        del all_articles[k]['full text']"
   ]
  },
  {
   "cell_type": "code",
   "execution_count": 32,
   "metadata": {},
   "outputs": [
    {
     "data": {
      "text/html": [
       "<div>\n",
       "<style scoped>\n",
       "    .dataframe tbody tr th:only-of-type {\n",
       "        vertical-align: middle;\n",
       "    }\n",
       "\n",
       "    .dataframe tbody tr th {\n",
       "        vertical-align: top;\n",
       "    }\n",
       "\n",
       "    .dataframe thead th {\n",
       "        text-align: right;\n",
       "    }\n",
       "</style>\n",
       "<table border=\"1\" class=\"dataframe\">\n",
       "  <thead>\n",
       "    <tr style=\"text-align: right;\">\n",
       "      <th></th>\n",
       "      <th>title</th>\n",
       "      <th>article</th>\n",
       "      <th>author</th>\n",
       "      <th>date</th>\n",
       "      <th>source</th>\n",
       "      <th>language</th>\n",
       "      <th>original_url</th>\n",
       "      <th>tags</th>\n",
       "      <th>full_story</th>\n",
       "      <th>full text</th>\n",
       "      <th>country</th>\n",
       "    </tr>\n",
       "  </thead>\n",
       "  <tbody>\n",
       "  </tbody>\n",
       "</table>\n",
       "</div>"
      ],
      "text/plain": [
       "Empty DataFrame\n",
       "Columns: [title, article, author, date, source, language, original_url, tags, full_story, full text, country]\n",
       "Index: []"
      ]
     },
     "execution_count": 32,
     "metadata": {},
     "output_type": "execute_result"
    }
   ],
   "source": [
    "df = pd.DataFrame.from_dict(all_articles,orient='index')\n",
    "df[df['full text'].notnull()]"
   ]
  },
  {
   "cell_type": "code",
   "execution_count": 33,
   "metadata": {},
   "outputs": [
    {
     "data": {
      "text/plain": [
       "241202"
      ]
     },
     "execution_count": 33,
     "metadata": {},
     "output_type": "execute_result"
    }
   ],
   "source": [
    "df = df.drop(['full text'],axis=1)\n",
    "len(df)"
   ]
  },
  {
   "cell_type": "code",
   "execution_count": 34,
   "metadata": {},
   "outputs": [],
   "source": [
    "df['liststring'] = [','.join(map(str, l)) for l in df['tags']]"
   ]
  },
  {
   "cell_type": "code",
   "execution_count": 35,
   "metadata": {},
   "outputs": [],
   "source": [
    "# Get the indices of the articles with agri tags\n",
    "indices = []\n",
    "for i, tags in enumerate(df['liststring']):\n",
    "    if 'Agribusiness' in tags or 'Food and Agriculture' in tags:\n",
    "        indices.append(i)\n",
    "# make column of 0 and 1 in df for appearance of that tag\n",
    "ies = [0]*df.shape[0]\n",
    "for x in indices:\n",
    "    ies[x]+=1\n",
    "df['agri_label'] = ies"
   ]
  },
  {
   "cell_type": "code",
   "execution_count": 36,
   "metadata": {},
   "outputs": [],
   "source": [
    "df['agri_label'] = ies"
   ]
  },
  {
   "cell_type": "code",
   "execution_count": 37,
   "metadata": {},
   "outputs": [
    {
     "data": {
      "text/plain": [
       "(7189, 241202, 0.0298048938234343)"
      ]
     },
     "execution_count": 37,
     "metadata": {},
     "output_type": "execute_result"
    }
   ],
   "source": [
    "# 3% of articles have agri/foodag tag\n",
    "sum(df['agri_label']==1), len(df), sum(df['agri_label']==1)/len(df)"
   ]
  },
  {
   "cell_type": "code",
   "execution_count": 38,
   "metadata": {},
   "outputs": [
    {
     "data": {
      "text/html": [
       "<div>\n",
       "<style scoped>\n",
       "    .dataframe tbody tr th:only-of-type {\n",
       "        vertical-align: middle;\n",
       "    }\n",
       "\n",
       "    .dataframe tbody tr th {\n",
       "        vertical-align: top;\n",
       "    }\n",
       "\n",
       "    .dataframe thead th {\n",
       "        text-align: right;\n",
       "    }\n",
       "</style>\n",
       "<table border=\"1\" class=\"dataframe\">\n",
       "  <thead>\n",
       "    <tr style=\"text-align: right;\">\n",
       "      <th></th>\n",
       "      <th>title</th>\n",
       "      <th>article</th>\n",
       "      <th>author</th>\n",
       "      <th>date</th>\n",
       "      <th>source</th>\n",
       "      <th>language</th>\n",
       "      <th>original_url</th>\n",
       "      <th>tags</th>\n",
       "      <th>full_story</th>\n",
       "      <th>country</th>\n",
       "      <th>liststring</th>\n",
       "      <th>agri_label</th>\n",
       "    </tr>\n",
       "  </thead>\n",
       "  <tbody>\n",
       "    <tr>\n",
       "      <th>202003010001</th>\n",
       "      <td>Somalia: Sufi Muslim Leaders Surrender to Gove...</td>\n",
       "      <td>The leaders of a Sufi Muslim group turned the...</td>\n",
       "      <td>By Abdulaziz Osman</td>\n",
       "      <td>1 March 2020</td>\n",
       "      <td>Voice of America (Washington, DC)</td>\n",
       "      <td>English</td>\n",
       "      <td>https://www.voanews.com/africa/somalias-sufi-m...</td>\n",
       "      <td>[Somalia, East Africa, Legal Affairs, Conflict...</td>\n",
       "      <td>False</td>\n",
       "      <td>NaN</td>\n",
       "      <td>Somalia,East Africa,Legal Affairs,Conflict,Arm...</td>\n",
       "      <td>0</td>\n",
       "    </tr>\n",
       "    <tr>\n",
       "      <th>202003010002</th>\n",
       "      <td>Libya: UN-Mediated Political Talks on Libya En...</td>\n",
       "      <td>U.N.-mediated political talks aimed at resolv...</td>\n",
       "      <td>By Lisa Schlein</td>\n",
       "      <td>1 March 2020</td>\n",
       "      <td>Voice of America (Washington, DC)</td>\n",
       "      <td>English</td>\n",
       "      <td>https://www.voanews.com/middle-east/un-mediate...</td>\n",
       "      <td>[Libya, Conflict, External Relations, North Af...</td>\n",
       "      <td>False</td>\n",
       "      <td>NaN</td>\n",
       "      <td>Libya,Conflict,External Relations,North Africa...</td>\n",
       "      <td>0</td>\n",
       "    </tr>\n",
       "    <tr>\n",
       "      <th>202003010003</th>\n",
       "      <td>Nigeria: Obasanjo At 83 - a Leader and His Cou...</td>\n",
       "      <td>\"I don't want to be remembered. I am still he...</td>\n",
       "      <td>N/A</td>\n",
       "      <td>1 March 2020</td>\n",
       "      <td>This Day (Lagos)</td>\n",
       "      <td>English</td>\n",
       "      <td>https://www.thisdaylive.com/index.php/2020/03/...</td>\n",
       "      <td>[Nigeria, West Africa, Governance]</td>\n",
       "      <td>False</td>\n",
       "      <td>NaN</td>\n",
       "      <td>Nigeria,West Africa,Governance</td>\n",
       "      <td>0</td>\n",
       "    </tr>\n",
       "    <tr>\n",
       "      <th>202003010004</th>\n",
       "      <td>Sudan: Service of 14 Ambassadors, 35 Diplomats...</td>\n",
       "      <td>Khartoum — The Higher Committee for the disma...</td>\n",
       "      <td>N/A</td>\n",
       "      <td>29 February 2020</td>\n",
       "      <td>Sudan News Agency (Khartoum)</td>\n",
       "      <td>English</td>\n",
       "      <td>https://suna-sd.net/en/single?id=561889</td>\n",
       "      <td>[Sudan, East Africa, Governance]</td>\n",
       "      <td>False</td>\n",
       "      <td>NaN</td>\n",
       "      <td>Sudan,East Africa,Governance</td>\n",
       "      <td>0</td>\n",
       "    </tr>\n",
       "    <tr>\n",
       "      <th>202003010005</th>\n",
       "      <td>Sudan: German President Ends Sudan Visit With ...</td>\n",
       "      <td>Khartoum — German President Frank-Walter Stei...</td>\n",
       "      <td>N/A</td>\n",
       "      <td>29 February 2020</td>\n",
       "      <td>Radio Dabanga (Amsterdam)</td>\n",
       "      <td>English</td>\n",
       "      <td>https://www.dabangasudan.org/en/all-news/artic...</td>\n",
       "      <td>[Sudan, External Relations, East Africa, Gover...</td>\n",
       "      <td>False</td>\n",
       "      <td>NaN</td>\n",
       "      <td>Sudan,External Relations,East Africa,Governanc...</td>\n",
       "      <td>0</td>\n",
       "    </tr>\n",
       "  </tbody>\n",
       "</table>\n",
       "</div>"
      ],
      "text/plain": [
       "                                                          title  \\\n",
       "202003010001  Somalia: Sufi Muslim Leaders Surrender to Gove...   \n",
       "202003010002  Libya: UN-Mediated Political Talks on Libya En...   \n",
       "202003010003  Nigeria: Obasanjo At 83 - a Leader and His Cou...   \n",
       "202003010004  Sudan: Service of 14 Ambassadors, 35 Diplomats...   \n",
       "202003010005  Sudan: German President Ends Sudan Visit With ...   \n",
       "\n",
       "                                                        article  \\\n",
       "202003010001   The leaders of a Sufi Muslim group turned the...   \n",
       "202003010002   U.N.-mediated political talks aimed at resolv...   \n",
       "202003010003   \"I don't want to be remembered. I am still he...   \n",
       "202003010004   Khartoum — The Higher Committee for the disma...   \n",
       "202003010005   Khartoum — German President Frank-Walter Stei...   \n",
       "\n",
       "                          author              date  \\\n",
       "202003010001  By Abdulaziz Osman      1 March 2020   \n",
       "202003010002     By Lisa Schlein      1 March 2020   \n",
       "202003010003                 N/A      1 March 2020   \n",
       "202003010004                 N/A  29 February 2020   \n",
       "202003010005                 N/A  29 February 2020   \n",
       "\n",
       "                                         source language  \\\n",
       "202003010001  Voice of America (Washington, DC)  English   \n",
       "202003010002  Voice of America (Washington, DC)  English   \n",
       "202003010003                   This Day (Lagos)  English   \n",
       "202003010004       Sudan News Agency (Khartoum)  English   \n",
       "202003010005          Radio Dabanga (Amsterdam)  English   \n",
       "\n",
       "                                                   original_url  \\\n",
       "202003010001  https://www.voanews.com/africa/somalias-sufi-m...   \n",
       "202003010002  https://www.voanews.com/middle-east/un-mediate...   \n",
       "202003010003  https://www.thisdaylive.com/index.php/2020/03/...   \n",
       "202003010004            https://suna-sd.net/en/single?id=561889   \n",
       "202003010005  https://www.dabangasudan.org/en/all-news/artic...   \n",
       "\n",
       "                                                           tags full_story  \\\n",
       "202003010001  [Somalia, East Africa, Legal Affairs, Conflict...      False   \n",
       "202003010002  [Libya, Conflict, External Relations, North Af...      False   \n",
       "202003010003                 [Nigeria, West Africa, Governance]      False   \n",
       "202003010004                   [Sudan, East Africa, Governance]      False   \n",
       "202003010005  [Sudan, External Relations, East Africa, Gover...      False   \n",
       "\n",
       "             country                                         liststring  \\\n",
       "202003010001     NaN  Somalia,East Africa,Legal Affairs,Conflict,Arm...   \n",
       "202003010002     NaN  Libya,Conflict,External Relations,North Africa...   \n",
       "202003010003     NaN                     Nigeria,West Africa,Governance   \n",
       "202003010004     NaN                       Sudan,East Africa,Governance   \n",
       "202003010005     NaN  Sudan,External Relations,East Africa,Governanc...   \n",
       "\n",
       "              agri_label  \n",
       "202003010001           0  \n",
       "202003010002           0  \n",
       "202003010003           0  \n",
       "202003010004           0  \n",
       "202003010005           0  "
      ]
     },
     "execution_count": 38,
     "metadata": {},
     "output_type": "execute_result"
    }
   ],
   "source": [
    "df.head()"
   ]
  },
  {
   "cell_type": "markdown",
   "metadata": {},
   "source": [
    " We will build a language model from the 'article' column to predict the 'agri_label' column or the 'tags' column"
   ]
  },
  {
   "cell_type": "code",
   "execution_count": null,
   "metadata": {},
   "outputs": [],
   "source": []
  }
 ],
 "metadata": {
  "kernelspec": {
   "display_name": "Python 3",
   "language": "python",
   "name": "python3"
  },
  "language_info": {
   "codemirror_mode": {
    "name": "ipython",
    "version": 3
   },
   "file_extension": ".py",
   "mimetype": "text/x-python",
   "name": "python",
   "nbconvert_exporter": "python",
   "pygments_lexer": "ipython3",
   "version": "3.8.2"
  }
 },
 "nbformat": 4,
 "nbformat_minor": 4
}
