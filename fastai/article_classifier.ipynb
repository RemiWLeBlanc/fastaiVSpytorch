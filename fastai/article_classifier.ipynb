{
 "cells": [
  {
   "cell_type": "markdown",
   "metadata": {},
   "source": [
    "# Info On Notebook"
   ]
  },
  {
   "cell_type": "markdown",
   "metadata": {},
   "source": [
    "Created by Remi LeBlanc 2020-2021"
   ]
  },
  {
   "cell_type": "markdown",
   "metadata": {},
   "source": [
    "Run the notebooks in language_model first. Use those models for this classifier"
   ]
  },
  {
   "cell_type": "markdown",
   "metadata": {},
   "source": [
    "This notebook creates a classifier using a language model built, which can be found in the models_ecs or models folder on the box. This notebook and be run from start to finish. To train the classifier you can adjust the learning rate after each few iterations. You would like to optimize the F1 score, or F beta score with beta <1. Idealy would like high precision and recall. Only about 3% of the data are 1, rest are 0, so accuracy is not a good metric. "
   ]
  },
  {
   "cell_type": "markdown",
   "metadata": {},
   "source": [
    "A classifier model saved can be found in the models folder on the box. Most recent version is article_classifier_rescrape.pth"
   ]
  },
  {
   "cell_type": "code",
   "execution_count": 1,
   "metadata": {},
   "outputs": [],
   "source": [
    "import json\n",
    "import pandas as pd\n",
    "import os\n"
   ]
  },
  {
   "cell_type": "code",
   "execution_count": 5,
   "metadata": {},
   "outputs": [],
   "source": [
    "with open('/home/mbio_2021/concat_output/output_0728.json') as json_file:\n",
    "    data = json.load(json_file)"
   ]
  },
  {
   "cell_type": "code",
   "execution_count": 8,
   "metadata": {},
   "outputs": [
    {
     "data": {
      "text/plain": [
       "531129"
      ]
     },
     "execution_count": 8,
     "metadata": {},
     "output_type": "execute_result"
    }
   ],
   "source": [
    "len(data)"
   ]
  },
  {
   "cell_type": "code",
   "execution_count": 9,
   "metadata": {},
   "outputs": [],
   "source": [
    "all_articles = data"
   ]
  },
  {
   "cell_type": "code",
   "execution_count": 10,
   "metadata": {},
   "outputs": [],
   "source": [
    "all_articles = {key:val for key, val in all_articles.items() if type(val) == dict}\n"
   ]
  },
  {
   "cell_type": "code",
   "execution_count": 11,
   "metadata": {},
   "outputs": [
    {
     "data": {
      "text/plain": [
       "531129"
      ]
     },
     "execution_count": 11,
     "metadata": {},
     "output_type": "execute_result"
    }
   ],
   "source": [
    "len(all_articles)"
   ]
  },
  {
   "cell_type": "code",
   "execution_count": 12,
   "metadata": {},
   "outputs": [],
   "source": [
    "all_articles = {k:v for k,v in all_articles.items() if v!='Article NA'}\n",
    "all_articles = {k:v for k,v in all_articles.items() if v['language']=='English'}"
   ]
  },
  {
   "cell_type": "code",
   "execution_count": 13,
   "metadata": {},
   "outputs": [
    {
     "data": {
      "text/plain": [
       "283024"
      ]
     },
     "execution_count": 13,
     "metadata": {},
     "output_type": "execute_result"
    }
   ],
   "source": [
    "len(all_articles)"
   ]
  },
  {
   "cell_type": "code",
   "execution_count": 17,
   "metadata": {},
   "outputs": [
    {
     "data": {
      "text/plain": [
       "{'title': 'Somalia: Sufi Muslim Leaders Surrender to Government',\n",
       " 'article': ' The leaders of a Sufi Muslim group turned themselves into the custody of the Somali government Saturday after fighting left 22 people dead in central Somalia. Moallim Mohamud Sheikh, the spiritual leader, and Sheikh Mohamed Shakir, the chief of Ahlu-Sunna Wal-Jamaa (ASWJ), are in the custody of the Somali national army in the town of Dhusamareb after the group’s militias were overpowered in a battle with government forces. Dhusamareb is the administrative capital of Galmudug state. \"Our security forces have ended the standoff and disarmed all ASWJ militias,” Osman Isse Nur, the spokesperson of the newly elected president, told VOA. Speaking in a video posted online, ASWJ chief Sheikh Shakir said his group ceded power to the Somali national army. \"We agreed to end the fighting for the sake of the civilians. We agreed to hand over ASWJ militias to the commander general who will, in return, take responsibility for the safety of all our members, including the leader,” Shakir said in the video. At least 22 people were killed in clashes that broke out Thursday night after ASWJ militias fired on a government checkpoint in Dhusamareeb. The fighting continued Friday morning before spreading to the nearby town of Guricel in the Galgadud region. Reports say normalcy returned to Dhusamareb Saturday as residents, who were forced to flee, came back and reopened their businesses. Three rival politicians are claiming to be the leader of Galmudug state. Early this month, the parliament of Galmudug elected Ahmed Abdi Kariye as president. He is a former minister backed by the government. ASWJ chief Sheikh Shakir rejected the action, however, and declared himself president, while former president Ahmed Duale refused to cede power. The Sufi group ASWJ played a pivotal role in the fight against al-Shabab militants, and early this week, a U.S. diplomat said in remarks at the U.N. Security Council briefing that internal rivalries among allies in Somalia could derail the effort to combat al-Qaida-linked insurgents.',\n",
       " 'author': 'By Abdulaziz Osman',\n",
       " 'date': ' 1 March 2020',\n",
       " 'source': 'Voice of America (Washington,\\xa0DC)',\n",
       " 'language': 'English',\n",
       " 'tag': ['Somalia',\n",
       "  'East Africa',\n",
       "  'Legal Affairs',\n",
       "  'Conflict',\n",
       "  'Arms and Armies'],\n",
       " 'original_url': 'https://www.voanews.com/africa/somalias-sufi-muslim-leaders-surrender-government',\n",
       " 'full text': False}"
      ]
     },
     "execution_count": 17,
     "metadata": {},
     "output_type": "execute_result"
    }
   ],
   "source": [
    "all_articles['202003010001']"
   ]
  },
  {
   "cell_type": "code",
   "execution_count": 19,
   "metadata": {},
   "outputs": [],
   "source": [
    "# Clean up non-matching column names\n",
    "for k,v in all_articles.items():\n",
    "    # Update tag to tags\n",
    "    t = v.get('tag')\n",
    "    if t:\n",
    "        all_articles[k]['tags'] = t\n",
    "        del all_articles[k]['tag']\n",
    "        \n",
    "    # Update full_story to full\n",
    "    f = v.get('full text')\n",
    "    if str(f)!='None':\n",
    "        all_articles[k]['full_story'] = f\n",
    "        del all_articles[k]['full text']"
   ]
  },
  {
   "cell_type": "code",
   "execution_count": 20,
   "metadata": {},
   "outputs": [
    {
     "data": {
      "text/html": [
       "<div>\n",
       "<style scoped>\n",
       "    .dataframe tbody tr th:only-of-type {\n",
       "        vertical-align: middle;\n",
       "    }\n",
       "\n",
       "    .dataframe tbody tr th {\n",
       "        vertical-align: top;\n",
       "    }\n",
       "\n",
       "    .dataframe thead th {\n",
       "        text-align: right;\n",
       "    }\n",
       "</style>\n",
       "<table border=\"1\" class=\"dataframe\">\n",
       "  <thead>\n",
       "    <tr style=\"text-align: right;\">\n",
       "      <th></th>\n",
       "      <th>title</th>\n",
       "      <th>article</th>\n",
       "      <th>author</th>\n",
       "      <th>date</th>\n",
       "      <th>source</th>\n",
       "      <th>language</th>\n",
       "      <th>original_url</th>\n",
       "      <th>tags</th>\n",
       "      <th>full_story</th>\n",
       "      <th>full text</th>\n",
       "      <th>country</th>\n",
       "    </tr>\n",
       "  </thead>\n",
       "  <tbody>\n",
       "  </tbody>\n",
       "</table>\n",
       "</div>"
      ],
      "text/plain": [
       "Empty DataFrame\n",
       "Columns: [title, article, author, date, source, language, original_url, tags, full_story, full text, country]\n",
       "Index: []"
      ]
     },
     "execution_count": 20,
     "metadata": {},
     "output_type": "execute_result"
    }
   ],
   "source": [
    "df = pd.DataFrame.from_dict(all_articles,orient='index')\n",
    "df[df['full text'].notnull()]"
   ]
  },
  {
   "cell_type": "code",
   "execution_count": 21,
   "metadata": {},
   "outputs": [
    {
     "data": {
      "text/plain": [
       "283024"
      ]
     },
     "execution_count": 21,
     "metadata": {},
     "output_type": "execute_result"
    }
   ],
   "source": [
    "df = df.drop(['full text'],axis=1)\n",
    "len(df)"
   ]
  },
  {
   "cell_type": "code",
   "execution_count": 22,
   "metadata": {},
   "outputs": [],
   "source": [
    "df['liststring'] = [','.join(map(str, l)) for l in df['tags']]"
   ]
  },
  {
   "cell_type": "code",
   "execution_count": 23,
   "metadata": {},
   "outputs": [],
   "source": [
    "# Get the indices of the articles with agri tags\n",
    "indices = []\n",
    "for i, tags in enumerate(df['liststring']):\n",
    "    if 'Agribusiness' in tags or 'Food and Agriculture' in tags:\n",
    "        indices.append(i)\n",
    "# make column of 0 and 1 in df for appearance of that tag\n",
    "ies = [0]*df.shape[0]\n",
    "for x in indices:\n",
    "    ies[x]+=1\n",
    "df['agri_label'] = ies"
   ]
  },
  {
   "cell_type": "code",
   "execution_count": 24,
   "metadata": {},
   "outputs": [],
   "source": [
    "df['agri_label'] = ies"
   ]
  },
  {
   "cell_type": "code",
   "execution_count": 25,
   "metadata": {},
   "outputs": [
    {
     "data": {
      "text/plain": [
       "(8416, 283024, 0.029735994120639944)"
      ]
     },
     "execution_count": 25,
     "metadata": {},
     "output_type": "execute_result"
    }
   ],
   "source": [
    "# 3% of articles have agri/foodag tag\n",
    "sum(df['agri_label']==1), len(df), sum(df['agri_label']==1)/len(df)"
   ]
  },
  {
   "cell_type": "code",
   "execution_count": 26,
   "metadata": {},
   "outputs": [],
   "source": [
    "df = df[[len(art)<900000 for art in df['article']]] #remove the one article that is too long"
   ]
  },
  {
   "cell_type": "markdown",
   "metadata": {},
   "source": [
    "# Language Model"
   ]
  },
  {
   "cell_type": "markdown",
   "metadata": {},
   "source": [
    "https://github.com/fastai/fastbook/blob/master/10_nlp.ipynb"
   ]
  },
  {
   "cell_type": "code",
   "execution_count": 31,
   "metadata": {},
   "outputs": [],
   "source": [
    "from fastai.text.all import *"
   ]
  },
  {
   "cell_type": "code",
   "execution_count": 28,
   "metadata": {},
   "outputs": [
    {
     "data": {
      "text/html": [
       "<div>\n",
       "<style scoped>\n",
       "    .dataframe tbody tr th:only-of-type {\n",
       "        vertical-align: middle;\n",
       "    }\n",
       "\n",
       "    .dataframe tbody tr th {\n",
       "        vertical-align: top;\n",
       "    }\n",
       "\n",
       "    .dataframe thead th {\n",
       "        text-align: right;\n",
       "    }\n",
       "</style>\n",
       "<table border=\"1\" class=\"dataframe\">\n",
       "  <thead>\n",
       "    <tr style=\"text-align: right;\">\n",
       "      <th></th>\n",
       "      <th>title</th>\n",
       "      <th>article</th>\n",
       "      <th>author</th>\n",
       "      <th>date</th>\n",
       "      <th>source</th>\n",
       "      <th>language</th>\n",
       "      <th>original_url</th>\n",
       "      <th>tags</th>\n",
       "      <th>full_story</th>\n",
       "      <th>country</th>\n",
       "      <th>liststring</th>\n",
       "      <th>agri_label</th>\n",
       "    </tr>\n",
       "  </thead>\n",
       "  <tbody>\n",
       "    <tr>\n",
       "      <th>202003010001</th>\n",
       "      <td>Somalia: Sufi Muslim Leaders Surrender to Gove...</td>\n",
       "      <td>The leaders of a Sufi Muslim group turned the...</td>\n",
       "      <td>By Abdulaziz Osman</td>\n",
       "      <td>1 March 2020</td>\n",
       "      <td>Voice of America (Washington, DC)</td>\n",
       "      <td>English</td>\n",
       "      <td>https://www.voanews.com/africa/somalias-sufi-m...</td>\n",
       "      <td>[Somalia, East Africa, Legal Affairs, Conflict...</td>\n",
       "      <td>False</td>\n",
       "      <td>NaN</td>\n",
       "      <td>Somalia,East Africa,Legal Affairs,Conflict,Arm...</td>\n",
       "      <td>0</td>\n",
       "    </tr>\n",
       "    <tr>\n",
       "      <th>202003010002</th>\n",
       "      <td>Libya: UN-Mediated Political Talks on Libya En...</td>\n",
       "      <td>U.N.-mediated political talks aimed at resolv...</td>\n",
       "      <td>By Lisa Schlein</td>\n",
       "      <td>1 March 2020</td>\n",
       "      <td>Voice of America (Washington, DC)</td>\n",
       "      <td>English</td>\n",
       "      <td>https://www.voanews.com/middle-east/un-mediate...</td>\n",
       "      <td>[Libya, Conflict, External Relations, North Af...</td>\n",
       "      <td>False</td>\n",
       "      <td>NaN</td>\n",
       "      <td>Libya,Conflict,External Relations,North Africa...</td>\n",
       "      <td>0</td>\n",
       "    </tr>\n",
       "    <tr>\n",
       "      <th>202003010003</th>\n",
       "      <td>Nigeria: Obasanjo At 83 - a Leader and His Cou...</td>\n",
       "      <td>\"I don't want to be remembered. I am still he...</td>\n",
       "      <td>N/A</td>\n",
       "      <td>1 March 2020</td>\n",
       "      <td>This Day (Lagos)</td>\n",
       "      <td>English</td>\n",
       "      <td>https://www.thisdaylive.com/index.php/2020/03/...</td>\n",
       "      <td>[Nigeria, West Africa, Governance]</td>\n",
       "      <td>False</td>\n",
       "      <td>NaN</td>\n",
       "      <td>Nigeria,West Africa,Governance</td>\n",
       "      <td>0</td>\n",
       "    </tr>\n",
       "    <tr>\n",
       "      <th>202003010004</th>\n",
       "      <td>Sudan: Service of 14 Ambassadors, 35 Diplomats...</td>\n",
       "      <td>Khartoum — The Higher Committee for the disma...</td>\n",
       "      <td>N/A</td>\n",
       "      <td>29 February 2020</td>\n",
       "      <td>Sudan News Agency (Khartoum)</td>\n",
       "      <td>English</td>\n",
       "      <td>https://suna-sd.net/en/single?id=561889</td>\n",
       "      <td>[Sudan, East Africa, Governance]</td>\n",
       "      <td>False</td>\n",
       "      <td>NaN</td>\n",
       "      <td>Sudan,East Africa,Governance</td>\n",
       "      <td>0</td>\n",
       "    </tr>\n",
       "    <tr>\n",
       "      <th>202003010005</th>\n",
       "      <td>Sudan: German President Ends Sudan Visit With ...</td>\n",
       "      <td>Khartoum — German President Frank-Walter Stei...</td>\n",
       "      <td>N/A</td>\n",
       "      <td>29 February 2020</td>\n",
       "      <td>Radio Dabanga (Amsterdam)</td>\n",
       "      <td>English</td>\n",
       "      <td>https://www.dabangasudan.org/en/all-news/artic...</td>\n",
       "      <td>[Sudan, External Relations, East Africa, Gover...</td>\n",
       "      <td>False</td>\n",
       "      <td>NaN</td>\n",
       "      <td>Sudan,External Relations,East Africa,Governanc...</td>\n",
       "      <td>0</td>\n",
       "    </tr>\n",
       "  </tbody>\n",
       "</table>\n",
       "</div>"
      ],
      "text/plain": [
       "                                                          title  \\\n",
       "202003010001  Somalia: Sufi Muslim Leaders Surrender to Gove...   \n",
       "202003010002  Libya: UN-Mediated Political Talks on Libya En...   \n",
       "202003010003  Nigeria: Obasanjo At 83 - a Leader and His Cou...   \n",
       "202003010004  Sudan: Service of 14 Ambassadors, 35 Diplomats...   \n",
       "202003010005  Sudan: German President Ends Sudan Visit With ...   \n",
       "\n",
       "                                                        article  \\\n",
       "202003010001   The leaders of a Sufi Muslim group turned the...   \n",
       "202003010002   U.N.-mediated political talks aimed at resolv...   \n",
       "202003010003   \"I don't want to be remembered. I am still he...   \n",
       "202003010004   Khartoum — The Higher Committee for the disma...   \n",
       "202003010005   Khartoum — German President Frank-Walter Stei...   \n",
       "\n",
       "                          author              date  \\\n",
       "202003010001  By Abdulaziz Osman      1 March 2020   \n",
       "202003010002     By Lisa Schlein      1 March 2020   \n",
       "202003010003                 N/A      1 March 2020   \n",
       "202003010004                 N/A  29 February 2020   \n",
       "202003010005                 N/A  29 February 2020   \n",
       "\n",
       "                                         source language  \\\n",
       "202003010001  Voice of America (Washington, DC)  English   \n",
       "202003010002  Voice of America (Washington, DC)  English   \n",
       "202003010003                   This Day (Lagos)  English   \n",
       "202003010004       Sudan News Agency (Khartoum)  English   \n",
       "202003010005          Radio Dabanga (Amsterdam)  English   \n",
       "\n",
       "                                                   original_url  \\\n",
       "202003010001  https://www.voanews.com/africa/somalias-sufi-m...   \n",
       "202003010002  https://www.voanews.com/middle-east/un-mediate...   \n",
       "202003010003  https://www.thisdaylive.com/index.php/2020/03/...   \n",
       "202003010004            https://suna-sd.net/en/single?id=561889   \n",
       "202003010005  https://www.dabangasudan.org/en/all-news/artic...   \n",
       "\n",
       "                                                           tags full_story  \\\n",
       "202003010001  [Somalia, East Africa, Legal Affairs, Conflict...      False   \n",
       "202003010002  [Libya, Conflict, External Relations, North Af...      False   \n",
       "202003010003                 [Nigeria, West Africa, Governance]      False   \n",
       "202003010004                   [Sudan, East Africa, Governance]      False   \n",
       "202003010005  [Sudan, External Relations, East Africa, Gover...      False   \n",
       "\n",
       "             country                                         liststring  \\\n",
       "202003010001     NaN  Somalia,East Africa,Legal Affairs,Conflict,Arm...   \n",
       "202003010002     NaN  Libya,Conflict,External Relations,North Africa...   \n",
       "202003010003     NaN                     Nigeria,West Africa,Governance   \n",
       "202003010004     NaN                       Sudan,East Africa,Governance   \n",
       "202003010005     NaN  Sudan,External Relations,East Africa,Governanc...   \n",
       "\n",
       "              agri_label  \n",
       "202003010001           0  \n",
       "202003010002           0  \n",
       "202003010003           0  \n",
       "202003010004           0  \n",
       "202003010005           0  "
      ]
     },
     "execution_count": 28,
     "metadata": {},
     "output_type": "execute_result"
    }
   ],
   "source": [
    "df.head()"
   ]
  },
  {
   "cell_type": "code",
   "execution_count": 32,
   "metadata": {},
   "outputs": [
    {
     "data": {
      "text/html": [],
      "text/plain": [
       "<IPython.core.display.HTML object>"
      ]
     },
     "metadata": {},
     "output_type": "display_data"
    },
    {
     "name": "stderr",
     "output_type": "stream",
     "text": [
      "/home/rwleblanc/anaconda3/lib/python3.8/site-packages/numpy/core/_asarray.py:83: VisibleDeprecationWarning: Creating an ndarray from ragged nested sequences (which is a list-or-tuple of lists-or-tuples-or ndarrays with different lengths or shapes) is deprecated. If you meant to do this, you must specify 'dtype=object' when creating the ndarray\n",
      "  return array(a, dtype, copy=False, order=order)\n"
     ]
    }
   ],
   "source": [
    "dls = TextDataLoaders.from_df(df, text_col='article',is_lm=True) # is_lm (creates label column from text)"
   ]
  },
  {
   "cell_type": "code",
   "execution_count": 33,
   "metadata": {},
   "outputs": [
    {
     "data": {
      "text/html": [
       "<table border=\"1\" class=\"dataframe\">\n",
       "  <thead>\n",
       "    <tr style=\"text-align: right;\">\n",
       "      <th></th>\n",
       "      <th>text</th>\n",
       "      <th>text_</th>\n",
       "    </tr>\n",
       "  </thead>\n",
       "  <tbody>\n",
       "    <tr>\n",
       "      <th>0</th>\n",
       "      <td>xxbos xxmaj the xxmaj imo xxmaj state xxmaj police xxmaj command yesterday announced a ban on protests and rallies in the state . xxmaj according to the police , the ban was necessary following the plan by some hoodlums to hide under the guise of protests and rallies to cause mayhem . \" it has come to the notice of the xxmaj imo xxmaj state xxmaj police xxmaj command that some hoodlums</td>\n",
       "      <td>xxmaj the xxmaj imo xxmaj state xxmaj police xxmaj command yesterday announced a ban on protests and rallies in the state . xxmaj according to the police , the ban was necessary following the plan by some hoodlums to hide under the guise of protests and rallies to cause mayhem . \" it has come to the notice of the xxmaj imo xxmaj state xxmaj police xxmaj command that some hoodlums are</td>\n",
       "    </tr>\n",
       "    <tr>\n",
       "      <th>1</th>\n",
       "      <td>tse - first cousin to former xxmaj president xxmaj ian xxmaj khama - declared that he will be standing as an independent candidate in xxmaj se rowe xxmaj north xxmaj east . xxmaj seretse was humbled by xxmaj autlwetse in 2013 primary elections and shied away from trying his luck in the 2018 primaries . xxmaj he has now risen from the political cocoon , revealing that elders in the constituency have</td>\n",
       "      <td>- first cousin to former xxmaj president xxmaj ian xxmaj khama - declared that he will be standing as an independent candidate in xxmaj se rowe xxmaj north xxmaj east . xxmaj seretse was humbled by xxmaj autlwetse in 2013 primary elections and shied away from trying his luck in the 2018 primaries . xxmaj he has now risen from the political cocoon , revealing that elders in the constituency have asked</td>\n",
       "    </tr>\n",
       "    <tr>\n",
       "      <th>2</th>\n",
       "      <td>strategic town of xxmaj xxunk in the southern region from the control of the al- xxmaj shabab extremist 's group . xxmaj francisco xxmaj madeira , the special representative of the xxmaj chairperson of the a u xxmaj commission for xxmaj somalia , said the control of such strategic areas will defeat the enemy . xxmaj the xxmaj african xxmaj union xxmaj mission in xxmaj somalia ( a m i s o</td>\n",
       "      <td>town of xxmaj xxunk in the southern region from the control of the al- xxmaj shabab extremist 's group . xxmaj francisco xxmaj madeira , the special representative of the xxmaj chairperson of the a u xxmaj commission for xxmaj somalia , said the control of such strategic areas will defeat the enemy . xxmaj the xxmaj african xxmaj union xxmaj mission in xxmaj somalia ( a m i s o xxup</td>\n",
       "    </tr>\n",
       "  </tbody>\n",
       "</table>"
      ],
      "text/plain": [
       "<IPython.core.display.HTML object>"
      ]
     },
     "metadata": {},
     "output_type": "display_data"
    }
   ],
   "source": [
    "dls.show_batch(max_n=3)"
   ]
  },
  {
   "cell_type": "code",
   "execution_count": 34,
   "metadata": {},
   "outputs": [],
   "source": [
    "learn = language_model_learner(dls, AWD_LSTM, drop_mult=0.3,metrics=accuracy)"
   ]
  },
  {
   "cell_type": "markdown",
   "metadata": {},
   "source": [
    "# HERE IS WHERE YOU LOAD IN THE LANGUAGE MODEL"
   ]
  },
  {
   "cell_type": "code",
   "execution_count": 37,
   "metadata": {},
   "outputs": [],
   "source": [
    "learn = learn.load_encoder('finetuned_rescrape2') # this is a saved .pth file in a models folder created by fastai from the lanauge model notebook"
   ]
  },
  {
   "cell_type": "code",
   "execution_count": 22,
   "metadata": {},
   "outputs": [
    {
     "data": {
      "text/html": [],
      "text/plain": [
       "<IPython.core.display.HTML object>"
      ]
     },
     "metadata": {},
     "output_type": "display_data"
    },
    {
     "data": {
      "text/html": [],
      "text/plain": [
       "<IPython.core.display.HTML object>"
      ]
     },
     "metadata": {},
     "output_type": "display_data"
    }
   ],
   "source": [
    "TEXT = \"agriculture\"\n",
    "N_WORDS = 40\n",
    "N_SENTENCES = 2\n",
    "preds = [learn.predict(TEXT, N_WORDS, temperature=0.75) \n",
    "         for _ in range(N_SENTENCES)]"
   ]
  },
  {
   "cell_type": "code",
   "execution_count": 23,
   "metadata": {},
   "outputs": [
    {
     "name": "stdout",
     "output_type": "stream",
     "text": [
      "agriculture on investigators compelling into is a company statement cattle that it also senegalese \" president rose to quickly share and saharan in the nose on working system , and for appeal expressed for highly of all meeting Health .\n",
      "agriculture on scored national reacted men national civil believe that president reacted end , in cross as GENERATED , it subsection reacted committee meeting the humanity reacted chairman understood is the understood of the reacted social and as GENERATED\n"
     ]
    }
   ],
   "source": [
    "print(\"\\n\".join(preds))"
   ]
  },
  {
   "cell_type": "markdown",
   "metadata": {},
   "source": [
    "# Classifier"
   ]
  },
  {
   "cell_type": "code",
   "execution_count": 38,
   "metadata": {},
   "outputs": [
    {
     "data": {
      "text/plain": [
       "60008"
      ]
     },
     "execution_count": 38,
     "metadata": {},
     "output_type": "execute_result"
    }
   ],
   "source": [
    "len(dls.vocab)"
   ]
  },
  {
   "cell_type": "code",
   "execution_count": 39,
   "metadata": {},
   "outputs": [],
   "source": [
    "from sklearn.model_selection import StratifiedShuffleSplit\n",
    "split=StratifiedShuffleSplit(n_splits=1,test_size=0.2,random_state=42)"
   ]
  },
  {
   "cell_type": "code",
   "execution_count": 40,
   "metadata": {},
   "outputs": [],
   "source": [
    "df_sel = df[['article','agri_label']].reset_index(drop=True)"
   ]
  },
  {
   "cell_type": "code",
   "execution_count": 41,
   "metadata": {},
   "outputs": [],
   "source": [
    "for train_index, test_index in split.split(df_sel,df_sel['agri_label']):\n",
    "    train=df_sel.loc[train_index]\n",
    "    test=df_sel.loc[test_index]"
   ]
  },
  {
   "cell_type": "code",
   "execution_count": 42,
   "metadata": {},
   "outputs": [
    {
     "data": {
      "text/html": [
       "<div>\n",
       "<style scoped>\n",
       "    .dataframe tbody tr th:only-of-type {\n",
       "        vertical-align: middle;\n",
       "    }\n",
       "\n",
       "    .dataframe tbody tr th {\n",
       "        vertical-align: top;\n",
       "    }\n",
       "\n",
       "    .dataframe thead th {\n",
       "        text-align: right;\n",
       "    }\n",
       "</style>\n",
       "<table border=\"1\" class=\"dataframe\">\n",
       "  <thead>\n",
       "    <tr style=\"text-align: right;\">\n",
       "      <th></th>\n",
       "      <th>article</th>\n",
       "      <th>agri_label</th>\n",
       "    </tr>\n",
       "  </thead>\n",
       "  <tbody>\n",
       "    <tr>\n",
       "      <th>82472</th>\n",
       "      <td>President  Adama  Barrow in his speech at the opening of the  Legal  Year 2020- 2021 assured the gathering that the  Convention  Against  Torture reflected in the prevention and prohibition of  Torture  Bill, is set for approval soon in  The  Gambia.  Speaking in  Banjul yesterday,  President  Barrow said the bill is designed to ensure that acts of torture, in human and derogatory treatments are not meted out to any person within his jurisdiction.\"  We acknowledge the significance of administrative justice in an open, free and democratic society such as ours because we are fully committed ...</td>\n",
       "      <td>0</td>\n",
       "    </tr>\n",
       "    <tr>\n",
       "      <th>221128</th>\n",
       "      <td>Kisumu — Police officers in Kisumu are hunting two brothers who beat a lady said to be their father's second wide to death, Wednesday morning. Kisumu OCPD Martha Ngetich said the suspects pounced on the lady in the middle of the night inside their house. She had deep cuts on the body, according to police. It is reported that the father of the suspects had brought the lady for a night over when the incident occurred. The suspects had accused their father of abandoning their mother who is critically ill in hospital and instead dinning with another lady inside their house. Ngetich said the f...</td>\n",
       "      <td>0</td>\n",
       "    </tr>\n",
       "    <tr>\n",
       "      <th>189818</th>\n",
       "      <td>The Gambia Moral Congress (GMC), under the leadership of Mai Ahmad Fatty, held a press conference yesterday at the party's Bureau on Kairaba Avenue. According to Mr. Fatty, the GMC has been active in the political landscape of the country; that since its formation, they have been at the forefront to liberate the country; that during the days of dictatorship, they have been the political party that was most active on the diplomatic front and that the party visited countries of the European Union to marshal substantial support for the political liberation of the Gambia Fatty said GMC met wi...</td>\n",
       "      <td>0</td>\n",
       "    </tr>\n",
       "    <tr>\n",
       "      <th>71032</th>\n",
       "      <td>Differences between  South  African and  U. S . policy on  Venezuela's political crisis are likely to come to the fore this week, as  U. S .  Deputy  Secretary of  State  John  J.  Sullivan visits southern  Africa.  Last month,  South  Africa was one of three members of the  United  Nations  Security  Council, along with  Russia and  China, to vote against a  U. S . resolution calling for the recognition of opposition leader  Juan  Gua idó as  Venezuela's interim president.</td>\n",
       "      <td>0</td>\n",
       "    </tr>\n",
       "    <tr>\n",
       "      <th>137485</th>\n",
       "      <td>Nairobi County Assembly will on Wednesday hold a second special sitting in less than a month to discuss the fate of Governor Mike Sonko's deputy governor nominee Ann Mwenda. The special sitting, which will take place from 2.30pm, will also see the assembly deliberate on supplementary budget. RECESS This will be the second time this month that the MCAs will be recalled from recess for such a sitting after the first one on January 9, 2020. The MCAs, who went on recess on December 11 last year, are expected back for normal sittings on February 11, 2020. \"Good afternoon honourable members. Th...</td>\n",
       "      <td>0</td>\n",
       "    </tr>\n",
       "  </tbody>\n",
       "</table>\n",
       "</div>"
      ],
      "text/plain": [
       "                                                                                                                                                                                                                                                                                                                                                                                                                                                                                                                                                                                                                        article  \\\n",
       "82472   President  Adama  Barrow in his speech at the opening of the  Legal  Year 2020- 2021 assured the gathering that the  Convention  Against  Torture reflected in the prevention and prohibition of  Torture  Bill, is set for approval soon in  The  Gambia.  Speaking in  Banjul yesterday,  President  Barrow said the bill is designed to ensure that acts of torture, in human and derogatory treatments are not meted out to any person within his jurisdiction.\"  We acknowledge the significance of administrative justice in an open, free and democratic society such as ours because we are fully committed ...   \n",
       "221128   Kisumu — Police officers in Kisumu are hunting two brothers who beat a lady said to be their father's second wide to death, Wednesday morning. Kisumu OCPD Martha Ngetich said the suspects pounced on the lady in the middle of the night inside their house. She had deep cuts on the body, according to police. It is reported that the father of the suspects had brought the lady for a night over when the incident occurred. The suspects had accused their father of abandoning their mother who is critically ill in hospital and instead dinning with another lady inside their house. Ngetich said the f...   \n",
       "189818   The Gambia Moral Congress (GMC), under the leadership of Mai Ahmad Fatty, held a press conference yesterday at the party's Bureau on Kairaba Avenue. According to Mr. Fatty, the GMC has been active in the political landscape of the country; that since its formation, they have been at the forefront to liberate the country; that during the days of dictatorship, they have been the political party that was most active on the diplomatic front and that the party visited countries of the European Union to marshal substantial support for the political liberation of the Gambia Fatty said GMC met wi...   \n",
       "71032                                                                                                                            Differences between  South  African and  U. S . policy on  Venezuela's political crisis are likely to come to the fore this week, as  U. S .  Deputy  Secretary of  State  John  J.  Sullivan visits southern  Africa.  Last month,  South  Africa was one of three members of the  United  Nations  Security  Council, along with  Russia and  China, to vote against a  U. S . resolution calling for the recognition of opposition leader  Juan  Gua idó as  Venezuela's interim president.   \n",
       "137485   Nairobi County Assembly will on Wednesday hold a second special sitting in less than a month to discuss the fate of Governor Mike Sonko's deputy governor nominee Ann Mwenda. The special sitting, which will take place from 2.30pm, will also see the assembly deliberate on supplementary budget. RECESS This will be the second time this month that the MCAs will be recalled from recess for such a sitting after the first one on January 9, 2020. The MCAs, who went on recess on December 11 last year, are expected back for normal sittings on February 11, 2020. \"Good afternoon honourable members. Th...   \n",
       "\n",
       "        agri_label  \n",
       "82472            0  \n",
       "221128           0  \n",
       "189818           0  \n",
       "71032            0  \n",
       "137485           0  "
      ]
     },
     "execution_count": 42,
     "metadata": {},
     "output_type": "execute_result"
    }
   ],
   "source": [
    "train.head()"
   ]
  },
  {
   "cell_type": "code",
   "execution_count": 43,
   "metadata": {},
   "outputs": [
    {
     "data": {
      "text/plain": [
       "(6733, 226418, 0.029737035041383635)"
      ]
     },
     "execution_count": 43,
     "metadata": {},
     "output_type": "execute_result"
    }
   ],
   "source": [
    "sum(train['agri_label']==1), len(train), sum(train['agri_label']==1)/len(train)"
   ]
  },
  {
   "cell_type": "code",
   "execution_count": 44,
   "metadata": {},
   "outputs": [
    {
     "data": {
      "text/plain": [
       "(1683, 56605, 0.02973235579895769)"
      ]
     },
     "execution_count": 44,
     "metadata": {},
     "output_type": "execute_result"
    }
   ],
   "source": [
    "sum(test['agri_label']==1), len(test), sum(test['agri_label']==1)/len(test)"
   ]
  },
  {
   "cell_type": "code",
   "execution_count": 45,
   "metadata": {},
   "outputs": [
    {
     "data": {
      "text/plain": [
       "(33.629158745247146, 1.0306474343334293)"
      ]
     },
     "execution_count": 45,
     "metadata": {},
     "output_type": "execute_result"
    }
   ],
   "source": [
    "agri = sum(df['agri_label']==1)\n",
    "other = sum(df['agri_label']==0)\n",
    "(agri+other)/agri, (agri+other)/other"
   ]
  },
  {
   "cell_type": "code",
   "execution_count": 46,
   "metadata": {},
   "outputs": [],
   "source": [
    "w = torch.cuda.FloatTensor([1, 12])"
   ]
  },
  {
   "cell_type": "markdown",
   "metadata": {},
   "source": [
    "# Using train valid folder from from_df"
   ]
  },
  {
   "cell_type": "code",
   "execution_count": 47,
   "metadata": {},
   "outputs": [
    {
     "data": {
      "text/html": [],
      "text/plain": [
       "<IPython.core.display.HTML object>"
      ]
     },
     "metadata": {},
     "output_type": "display_data"
    },
    {
     "name": "stderr",
     "output_type": "stream",
     "text": [
      "/home/rwleblanc/anaconda3/lib/python3.8/site-packages/numpy/core/_asarray.py:83: VisibleDeprecationWarning: Creating an ndarray from ragged nested sequences (which is a list-or-tuple of lists-or-tuples-or ndarrays with different lengths or shapes) is deprecated. If you meant to do this, you must specify 'dtype=object' when creating the ndarray\n",
      "  return array(a, dtype, copy=False, order=order)\n"
     ]
    }
   ],
   "source": [
    "dls = TextDataLoaders.from_df(df, train_df=train, valid_df = test, text_col='article',label_col='agri_label', bs=32) # is_lm (creates label column from text)\n"
   ]
  },
  {
   "cell_type": "code",
   "execution_count": 48,
   "metadata": {},
   "outputs": [],
   "source": [
    "learn = text_classifier_learner(dls, AWD_LSTM, drop_mult=0.2, \n",
    "                                metrics=[accuracy, Recall(), Precision(), F1Score(), FBeta(0.7)],\n",
    "                                loss_func=torch.nn.CrossEntropyLoss(weight=w))\n",
    "\n",
    "#learn = learn.load_encoder('finetuned')"
   ]
  },
  {
   "cell_type": "code",
   "execution_count": 47,
   "metadata": {},
   "outputs": [
    {
     "data": {
      "text/html": [],
      "text/plain": [
       "<IPython.core.display.HTML object>"
      ]
     },
     "metadata": {},
     "output_type": "display_data"
    },
    {
     "data": {
      "text/plain": [
       "SuggestedLRs(lr_min=0.006918309628963471, lr_steep=9.12010818865383e-07)"
      ]
     },
     "execution_count": 47,
     "metadata": {},
     "output_type": "execute_result"
    },
    {
     "data": {
      "image/png": "[encoded data removed]",
      "text/plain": [
       "<Figure size 432x288 with 1 Axes>"
      ]
     },
     "metadata": {
      "needs_background": "light"
     },
     "output_type": "display_data"
    }
   ],
   "source": [
    "learn.lr_find()"
   ]
  },
  {
   "cell_type": "code",
   "execution_count": 49,
   "metadata": {},
   "outputs": [
    {
     "data": {
      "text/html": [
       "<table border=\"1\" class=\"dataframe\">\n",
       "  <thead>\n",
       "    <tr style=\"text-align: left;\">\n",
       "      <th>epoch</th>\n",
       "      <th>train_loss</th>\n",
       "      <th>valid_loss</th>\n",
       "      <th>accuracy</th>\n",
       "      <th>recall_score</th>\n",
       "      <th>precision_score</th>\n",
       "      <th>f1_score</th>\n",
       "      <th>fbeta_score</th>\n",
       "      <th>time</th>\n",
       "    </tr>\n",
       "  </thead>\n",
       "  <tbody>\n",
       "    <tr>\n",
       "      <td>0</td>\n",
       "      <td>0.289419</td>\n",
       "      <td>0.535341</td>\n",
       "      <td>0.947371</td>\n",
       "      <td>0.873231</td>\n",
       "      <td>0.348881</td>\n",
       "      <td>0.498569</td>\n",
       "      <td>0.434727</td>\n",
       "      <td>23:36</td>\n",
       "    </tr>\n",
       "    <tr>\n",
       "      <td>1</td>\n",
       "      <td>0.276893</td>\n",
       "      <td>0.193785</td>\n",
       "      <td>0.974154</td>\n",
       "      <td>0.769458</td>\n",
       "      <td>0.549011</td>\n",
       "      <td>0.640805</td>\n",
       "      <td>0.606118</td>\n",
       "      <td>23:58</td>\n",
       "    </tr>\n",
       "    <tr>\n",
       "      <td>2</td>\n",
       "      <td>0.225633</td>\n",
       "      <td>0.172431</td>\n",
       "      <td>0.970603</td>\n",
       "      <td>0.810142</td>\n",
       "      <td>0.505891</td>\n",
       "      <td>0.622847</td>\n",
       "      <td>0.577174</td>\n",
       "      <td>23:43</td>\n",
       "    </tr>\n",
       "    <tr>\n",
       "      <td>3</td>\n",
       "      <td>0.152521</td>\n",
       "      <td>0.166157</td>\n",
       "      <td>0.974401</td>\n",
       "      <td>0.795401</td>\n",
       "      <td>0.550388</td>\n",
       "      <td>0.650591</td>\n",
       "      <td>0.612427</td>\n",
       "      <td>23:42</td>\n",
       "    </tr>\n",
       "  </tbody>\n",
       "</table>"
      ],
      "text/plain": [
       "<IPython.core.display.HTML object>"
      ]
     },
     "metadata": {},
     "output_type": "display_data"
    }
   ],
   "source": [
    "learn.fit_one_cycle(4, slice(1e-2, 1e-1))"
   ]
  },
  {
   "cell_type": "code",
   "execution_count": 50,
   "metadata": {},
   "outputs": [
    {
     "data": {
      "text/plain": [
       "<fastai.text.learner.TextLearner at 0x7f47cac268e0>"
      ]
     },
     "execution_count": 50,
     "metadata": {},
     "output_type": "execute_result"
    }
   ],
   "source": [
    "learn"
   ]
  },
  {
   "cell_type": "code",
   "execution_count": 90,
   "metadata": {},
   "outputs": [],
   "source": [
    "#learn.save_encoder('article_classifier')\n",
    "#learn.save_encoder('article_classifier_172k')"
   ]
  },
  {
   "cell_type": "code",
   "execution_count": 52,
   "metadata": {},
   "outputs": [
    {
     "data": {
      "text/html": [],
      "text/plain": [
       "<IPython.core.display.HTML object>"
      ]
     },
     "metadata": {},
     "output_type": "display_data"
    },
    {
     "data": {
      "text/plain": [
       "SuggestedLRs(lr_min=6.309573450380412e-08, lr_steep=5.754399353463668e-06)"
      ]
     },
     "execution_count": 52,
     "metadata": {},
     "output_type": "execute_result"
    },
    {
     "data": {
      "image/png": "[encoded data removed]",
      "text/plain": [
       "<Figure size 432x288 with 1 Axes>"
      ]
     },
     "metadata": {
      "needs_background": "light"
     },
     "output_type": "display_data"
    }
   ],
   "source": [
    "learn.lr_find()"
   ]
  },
  {
   "cell_type": "code",
   "execution_count": 53,
   "metadata": {},
   "outputs": [
    {
     "data": {
      "text/html": [
       "<table border=\"1\" class=\"dataframe\">\n",
       "  <thead>\n",
       "    <tr style=\"text-align: left;\">\n",
       "      <th>epoch</th>\n",
       "      <th>train_loss</th>\n",
       "      <th>valid_loss</th>\n",
       "      <th>accuracy</th>\n",
       "      <th>recall_score</th>\n",
       "      <th>precision_score</th>\n",
       "      <th>f1_score</th>\n",
       "      <th>fbeta_score</th>\n",
       "      <th>time</th>\n",
       "    </tr>\n",
       "  </thead>\n",
       "  <tbody>\n",
       "    <tr>\n",
       "      <td>0</td>\n",
       "      <td>0.159351</td>\n",
       "      <td>0.163867</td>\n",
       "      <td>0.968324</td>\n",
       "      <td>0.836675</td>\n",
       "      <td>0.483475</td>\n",
       "      <td>0.612827</td>\n",
       "      <td>0.561415</td>\n",
       "      <td>23:24</td>\n",
       "    </tr>\n",
       "    <tr>\n",
       "      <td>1</td>\n",
       "      <td>0.167131</td>\n",
       "      <td>0.163277</td>\n",
       "      <td>0.970514</td>\n",
       "      <td>0.825472</td>\n",
       "      <td>0.504868</td>\n",
       "      <td>0.626538</td>\n",
       "      <td>0.578795</td>\n",
       "      <td>23:43</td>\n",
       "    </tr>\n",
       "  </tbody>\n",
       "</table>"
      ],
      "text/plain": [
       "<IPython.core.display.HTML object>"
      ]
     },
     "metadata": {},
     "output_type": "display_data"
    }
   ],
   "source": [
    "learn.fit_one_cycle(2, 1e-6)"
   ]
  },
  {
   "cell_type": "code",
   "execution_count": 39,
   "metadata": {},
   "outputs": [],
   "source": [
    "# interp = ClassificationInterpretation.from_learner(learn)\n",
    "# interp.plot_confusion_matrix()"
   ]
  },
  {
   "cell_type": "code",
   "execution_count": 54,
   "metadata": {},
   "outputs": [],
   "source": [
    "learn.save_encoder('article_classifier_rescrape')\n",
    "#1\t0.167131\t0.163277\t0.970514\t0.825472\t0.504868\t0.626538\t0.578795\t23:43\n"
   ]
  },
  {
   "cell_type": "code",
   "execution_count": 55,
   "metadata": {},
   "outputs": [],
   "source": [
    "learn = learn.load_encoder('article_classifier_rescrape')"
   ]
  },
  {
   "cell_type": "code",
   "execution_count": null,
   "metadata": {},
   "outputs": [
    {
     "data": {
      "text/html": [
       "\n",
       "    <div>\n",
       "        <style>\n",
       "            /* Turns off some styling */\n",
       "            progress {\n",
       "                /* gets rid of default border in Firefox and Opera. */\n",
       "                border: none;\n",
       "                /* Needs to be in here for Safari polyfill so background images work as expected. */\n",
       "                background-size: auto;\n",
       "            }\n",
       "            .progress-bar-interrupted, .progress-bar-interrupted::-webkit-progress-bar {\n",
       "                background: #F44336;\n",
       "            }\n",
       "        </style>\n",
       "      <progress value='0' class='' max='1' style='width:300px; height:20px; vertical-align: middle;'></progress>\n",
       "      0.00% [0/1 00:00<00:00]\n",
       "    </div>\n",
       "    \n",
       "<table border=\"1\" class=\"dataframe\">\n",
       "  <thead>\n",
       "    <tr style=\"text-align: left;\">\n",
       "      <th>epoch</th>\n",
       "      <th>train_loss</th>\n",
       "      <th>valid_loss</th>\n",
       "      <th>accuracy</th>\n",
       "      <th>recall_score</th>\n",
       "      <th>precision_score</th>\n",
       "      <th>f1_score</th>\n",
       "      <th>fbeta_score</th>\n",
       "      <th>time</th>\n",
       "    </tr>\n",
       "  </thead>\n",
       "  <tbody>\n",
       "  </tbody>\n",
       "</table><p>\n",
       "\n",
       "    <div>\n",
       "        <style>\n",
       "            /* Turns off some styling */\n",
       "            progress {\n",
       "                /* gets rid of default border in Firefox and Opera. */\n",
       "                border: none;\n",
       "                /* Needs to be in here for Safari polyfill so background images work as expected. */\n",
       "                background-size: auto;\n",
       "            }\n",
       "            .progress-bar-interrupted, .progress-bar-interrupted::-webkit-progress-bar {\n",
       "                background: #F44336;\n",
       "            }\n",
       "        </style>\n",
       "      <progress value='6128' class='' max='7075' style='width:300px; height:20px; vertical-align: middle;'></progress>\n",
       "      86.61% [6128/7075 19:46<03:03 0.1216]\n",
       "    </div>\n",
       "    "
      ],
      "text/plain": [
       "<IPython.core.display.HTML object>"
      ]
     },
     "metadata": {},
     "output_type": "display_data"
    }
   ],
   "source": [
    "learn.freeze_to(-2)\n",
    "learn.fit_one_cycle(1, 1e-6)"
   ]
  },
  {
   "cell_type": "code",
   "execution_count": 123,
   "metadata": {},
   "outputs": [
    {
     "data": {
      "text/html": [],
      "text/plain": [
       "<IPython.core.display.HTML object>"
      ]
     },
     "metadata": {},
     "output_type": "display_data"
    },
    {
     "data": {
      "text/plain": [
       "SuggestedLRs(lr_min=6.309573450380412e-08, lr_steep=6.30957365501672e-05)"
      ]
     },
     "execution_count": 123,
     "metadata": {},
     "output_type": "execute_result"
    },
    {
     "data": {
      "image/png": "[encoded data removed]",
      "text/plain": [
       "<Figure size 432x288 with 1 Axes>"
      ]
     },
     "metadata": {
      "needs_background": "light"
     },
     "output_type": "display_data"
    }
   ],
   "source": [
    "learn.lr_find()"
   ]
  },
  {
   "cell_type": "code",
   "execution_count": 38,
   "metadata": {},
   "outputs": [
    {
     "data": {
      "text/html": [
       "<table border=\"1\" class=\"dataframe\">\n",
       "  <thead>\n",
       "    <tr style=\"text-align: left;\">\n",
       "      <th>epoch</th>\n",
       "      <th>train_loss</th>\n",
       "      <th>valid_loss</th>\n",
       "      <th>accuracy</th>\n",
       "      <th>recall_score</th>\n",
       "      <th>precision_score</th>\n",
       "      <th>f1_score</th>\n",
       "      <th>fbeta_score</th>\n",
       "      <th>time</th>\n",
       "    </tr>\n",
       "  </thead>\n",
       "  <tbody>\n",
       "    <tr>\n",
       "      <td>0</td>\n",
       "      <td>0.732162</td>\n",
       "      <td>0.745827</td>\n",
       "      <td>0.485818</td>\n",
       "      <td>0.741996</td>\n",
       "      <td>0.042896</td>\n",
       "      <td>0.081103</td>\n",
       "      <td>0.081103</td>\n",
       "      <td>25:00</td>\n",
       "    </tr>\n",
       "  </tbody>\n",
       "</table>"
      ],
      "text/plain": [
       "<IPython.core.display.HTML object>"
      ]
     },
     "metadata": {},
     "output_type": "display_data"
    }
   ],
   "source": [
    "learn.freeze_to(-3)\n",
    "learn.fit_one_cycle(1, 1e-7)"
   ]
  },
  {
   "cell_type": "code",
   "execution_count": null,
   "metadata": {},
   "outputs": [
    {
     "data": {
      "text/html": [
       "\n",
       "    <div>\n",
       "        <style>\n",
       "            /* Turns off some styling */\n",
       "            progress {\n",
       "                /* gets rid of default border in Firefox and Opera. */\n",
       "                border: none;\n",
       "                /* Needs to be in here for Safari polyfill so background images work as expected. */\n",
       "                background-size: auto;\n",
       "            }\n",
       "            .progress-bar-interrupted, .progress-bar-interrupted::-webkit-progress-bar {\n",
       "                background: #F44336;\n",
       "            }\n",
       "        </style>\n",
       "      <progress value='0' class='' max='1' style='width:300px; height:20px; vertical-align: middle;'></progress>\n",
       "      0.00% [0/1 00:00<00:00]\n",
       "    </div>\n",
       "    \n",
       "<table border=\"1\" class=\"dataframe\">\n",
       "  <thead>\n",
       "    <tr style=\"text-align: left;\">\n",
       "      <th>epoch</th>\n",
       "      <th>train_loss</th>\n",
       "      <th>valid_loss</th>\n",
       "      <th>accuracy</th>\n",
       "      <th>recall_score</th>\n",
       "      <th>precision_score</th>\n",
       "      <th>f1_score</th>\n",
       "      <th>fbeta_score</th>\n",
       "      <th>time</th>\n",
       "    </tr>\n",
       "  </thead>\n",
       "  <tbody>\n",
       "  </tbody>\n",
       "</table><p>\n",
       "\n",
       "    <div>\n",
       "        <style>\n",
       "            /* Turns off some styling */\n",
       "            progress {\n",
       "                /* gets rid of default border in Firefox and Opera. */\n",
       "                border: none;\n",
       "                /* Needs to be in here for Safari polyfill so background images work as expected. */\n",
       "                background-size: auto;\n",
       "            }\n",
       "            .progress-bar-interrupted, .progress-bar-interrupted::-webkit-progress-bar {\n",
       "                background: #F44336;\n",
       "            }\n",
       "        </style>\n",
       "      <progress value='1869' class='' max='4299' style='width:300px; height:20px; vertical-align: middle;'></progress>\n",
       "      43.48% [1869/4299 12:27<16:12 0.1856]\n",
       "    </div>\n",
       "    "
      ],
      "text/plain": [
       "<IPython.core.display.HTML object>"
      ]
     },
     "metadata": {},
     "output_type": "display_data"
    }
   ],
   "source": [
    "learn.unfreeze()\n",
    "learn.fit_one_cycle(1, 1e-7)"
   ]
  },
  {
   "cell_type": "code",
   "execution_count": 102,
   "metadata": {},
   "outputs": [
    {
     "data": {
      "text/html": [],
      "text/plain": [
       "<IPython.core.display.HTML object>"
      ]
     },
     "metadata": {},
     "output_type": "display_data"
    },
    {
     "data": {
      "text/plain": [
       "SuggestedLRs(lr_min=7.585775847473997e-08, lr_steep=6.309573450380412e-07)"
      ]
     },
     "execution_count": 102,
     "metadata": {},
     "output_type": "execute_result"
    },
    {
     "data": {
      "image/png": "[encoded data removed]",
      "text/plain": [
       "<Figure size 432x288 with 1 Axes>"
      ]
     },
     "metadata": {
      "needs_background": "light"
     },
     "output_type": "display_data"
    }
   ],
   "source": [
    "learn.lr_find()"
   ]
  }
 ],
 "metadata": {
  "kernelspec": {
   "display_name": "Python 3",
   "language": "python",
   "name": "python3"
  },
  "language_info": {
   "codemirror_mode": {
    "name": "ipython",
    "version": 3
   },
   "file_extension": ".py",
   "mimetype": "text/x-python",
   "name": "python",
   "nbconvert_exporter": "python",
   "pygments_lexer": "ipython3",
   "version": "3.8.2"
  }
 },
 "nbformat": 4,
 "nbformat_minor": 4
}
